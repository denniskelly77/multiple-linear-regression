{
 "cells": [
  {
   "cell_type": "code",
   "execution_count": 1,
   "id": "96d29429",
   "metadata": {},
   "outputs": [],
   "source": [
    "import numpy as np\n",
    "import pandas as pd\n",
    "import seaborn as sns\n",
    "import matplotlib.pyplot as plt\n",
    "from sklearn import linear_model\n",
    "from sklearn.model_selection import train_test_split\n",
    "from sklearn.metrics import mean_squared_error\n",
    "\n",
    "sns.set_style(\"whitegrid\")"
   ]
  },
  {
   "cell_type": "markdown",
   "id": "e91a5a8a",
   "metadata": {},
   "source": [
    "Read in the data with Pandas"
   ]
  },
  {
   "cell_type": "code",
   "execution_count": 2,
   "id": "763e8eae",
   "metadata": {},
   "outputs": [
    {
     "data": {
      "text/html": [
       "<div>\n",
       "<style scoped>\n",
       "    .dataframe tbody tr th:only-of-type {\n",
       "        vertical-align: middle;\n",
       "    }\n",
       "\n",
       "    .dataframe tbody tr th {\n",
       "        vertical-align: top;\n",
       "    }\n",
       "\n",
       "    .dataframe thead th {\n",
       "        text-align: right;\n",
       "    }\n",
       "</style>\n",
       "<table border=\"1\" class=\"dataframe\">\n",
       "  <thead>\n",
       "    <tr style=\"text-align: right;\">\n",
       "      <th></th>\n",
       "      <th>Manufacturer</th>\n",
       "      <th>Model</th>\n",
       "      <th>Type</th>\n",
       "      <th>Min.Price</th>\n",
       "      <th>Price</th>\n",
       "      <th>Max.Price</th>\n",
       "      <th>MPG.city</th>\n",
       "      <th>MPG.highway</th>\n",
       "      <th>AirBags</th>\n",
       "      <th>DriveTrain</th>\n",
       "      <th>...</th>\n",
       "      <th>Passengers</th>\n",
       "      <th>Length</th>\n",
       "      <th>Wheelbase</th>\n",
       "      <th>Width</th>\n",
       "      <th>Turn.circle</th>\n",
       "      <th>Rear.seat.room</th>\n",
       "      <th>Luggage.room</th>\n",
       "      <th>Weight</th>\n",
       "      <th>Origin</th>\n",
       "      <th>Make</th>\n",
       "    </tr>\n",
       "  </thead>\n",
       "  <tbody>\n",
       "    <tr>\n",
       "      <th>1</th>\n",
       "      <td>Acura</td>\n",
       "      <td>Integra</td>\n",
       "      <td>Small</td>\n",
       "      <td>12.9</td>\n",
       "      <td>15.9</td>\n",
       "      <td>18.8</td>\n",
       "      <td>25</td>\n",
       "      <td>31</td>\n",
       "      <td>None</td>\n",
       "      <td>Front</td>\n",
       "      <td>...</td>\n",
       "      <td>5</td>\n",
       "      <td>177</td>\n",
       "      <td>102</td>\n",
       "      <td>68</td>\n",
       "      <td>37</td>\n",
       "      <td>26.5</td>\n",
       "      <td>11.0</td>\n",
       "      <td>2705</td>\n",
       "      <td>non-USA</td>\n",
       "      <td>Acura Integra</td>\n",
       "    </tr>\n",
       "    <tr>\n",
       "      <th>2</th>\n",
       "      <td>Acura</td>\n",
       "      <td>Legend</td>\n",
       "      <td>Midsize</td>\n",
       "      <td>29.2</td>\n",
       "      <td>33.9</td>\n",
       "      <td>38.7</td>\n",
       "      <td>18</td>\n",
       "      <td>25</td>\n",
       "      <td>Driver &amp; Passenger</td>\n",
       "      <td>Front</td>\n",
       "      <td>...</td>\n",
       "      <td>5</td>\n",
       "      <td>195</td>\n",
       "      <td>115</td>\n",
       "      <td>71</td>\n",
       "      <td>38</td>\n",
       "      <td>30.0</td>\n",
       "      <td>15.0</td>\n",
       "      <td>3560</td>\n",
       "      <td>non-USA</td>\n",
       "      <td>Acura Legend</td>\n",
       "    </tr>\n",
       "    <tr>\n",
       "      <th>3</th>\n",
       "      <td>Audi</td>\n",
       "      <td>90</td>\n",
       "      <td>Compact</td>\n",
       "      <td>25.9</td>\n",
       "      <td>29.1</td>\n",
       "      <td>32.3</td>\n",
       "      <td>20</td>\n",
       "      <td>26</td>\n",
       "      <td>Driver only</td>\n",
       "      <td>Front</td>\n",
       "      <td>...</td>\n",
       "      <td>5</td>\n",
       "      <td>180</td>\n",
       "      <td>102</td>\n",
       "      <td>67</td>\n",
       "      <td>37</td>\n",
       "      <td>28.0</td>\n",
       "      <td>14.0</td>\n",
       "      <td>3375</td>\n",
       "      <td>non-USA</td>\n",
       "      <td>Audi 90</td>\n",
       "    </tr>\n",
       "    <tr>\n",
       "      <th>4</th>\n",
       "      <td>Audi</td>\n",
       "      <td>100</td>\n",
       "      <td>Midsize</td>\n",
       "      <td>30.8</td>\n",
       "      <td>37.7</td>\n",
       "      <td>44.6</td>\n",
       "      <td>19</td>\n",
       "      <td>26</td>\n",
       "      <td>Driver &amp; Passenger</td>\n",
       "      <td>Front</td>\n",
       "      <td>...</td>\n",
       "      <td>6</td>\n",
       "      <td>193</td>\n",
       "      <td>106</td>\n",
       "      <td>70</td>\n",
       "      <td>37</td>\n",
       "      <td>31.0</td>\n",
       "      <td>17.0</td>\n",
       "      <td>3405</td>\n",
       "      <td>non-USA</td>\n",
       "      <td>Audi 100</td>\n",
       "    </tr>\n",
       "    <tr>\n",
       "      <th>5</th>\n",
       "      <td>BMW</td>\n",
       "      <td>535i</td>\n",
       "      <td>Midsize</td>\n",
       "      <td>23.7</td>\n",
       "      <td>30.0</td>\n",
       "      <td>36.2</td>\n",
       "      <td>22</td>\n",
       "      <td>30</td>\n",
       "      <td>Driver only</td>\n",
       "      <td>Rear</td>\n",
       "      <td>...</td>\n",
       "      <td>4</td>\n",
       "      <td>186</td>\n",
       "      <td>109</td>\n",
       "      <td>69</td>\n",
       "      <td>39</td>\n",
       "      <td>27.0</td>\n",
       "      <td>13.0</td>\n",
       "      <td>3640</td>\n",
       "      <td>non-USA</td>\n",
       "      <td>BMW 535i</td>\n",
       "    </tr>\n",
       "  </tbody>\n",
       "</table>\n",
       "<p>5 rows × 27 columns</p>\n",
       "</div>"
      ],
      "text/plain": [
       "  Manufacturer    Model     Type  Min.Price  Price  Max.Price  MPG.city  \\\n",
       "1        Acura  Integra    Small       12.9   15.9       18.8        25   \n",
       "2        Acura   Legend  Midsize       29.2   33.9       38.7        18   \n",
       "3         Audi       90  Compact       25.9   29.1       32.3        20   \n",
       "4         Audi      100  Midsize       30.8   37.7       44.6        19   \n",
       "5          BMW     535i  Midsize       23.7   30.0       36.2        22   \n",
       "\n",
       "   MPG.highway             AirBags DriveTrain  ... Passengers  Length  \\\n",
       "1           31                None      Front  ...          5     177   \n",
       "2           25  Driver & Passenger      Front  ...          5     195   \n",
       "3           26         Driver only      Front  ...          5     180   \n",
       "4           26  Driver & Passenger      Front  ...          6     193   \n",
       "5           30         Driver only       Rear  ...          4     186   \n",
       "\n",
       "   Wheelbase  Width  Turn.circle Rear.seat.room  Luggage.room  Weight  \\\n",
       "1        102     68           37           26.5          11.0    2705   \n",
       "2        115     71           38           30.0          15.0    3560   \n",
       "3        102     67           37           28.0          14.0    3375   \n",
       "4        106     70           37           31.0          17.0    3405   \n",
       "5        109     69           39           27.0          13.0    3640   \n",
       "\n",
       "    Origin           Make  \n",
       "1  non-USA  Acura Integra  \n",
       "2  non-USA   Acura Legend  \n",
       "3  non-USA        Audi 90  \n",
       "4  non-USA       Audi 100  \n",
       "5  non-USA       BMW 535i  \n",
       "\n",
       "[5 rows x 27 columns]"
      ]
     },
     "execution_count": 2,
     "metadata": {},
     "output_type": "execute_result"
    }
   ],
   "source": [
    "cars = pd.read_csv('Cars93.csv', index_col=0)\n",
    "\n",
    "cars.head()"
   ]
  },
  {
   "cell_type": "markdown",
   "id": "b87cec44",
   "metadata": {},
   "source": [
    "Check out the data and clean"
   ]
  },
  {
   "cell_type": "code",
   "execution_count": 3,
   "id": "60dfe868",
   "metadata": {},
   "outputs": [
    {
     "name": "stdout",
     "output_type": "stream",
     "text": [
      "<class 'pandas.core.frame.DataFrame'>\n",
      "Int64Index: 93 entries, 1 to 93\n",
      "Data columns (total 27 columns):\n",
      " #   Column              Non-Null Count  Dtype  \n",
      "---  ------              --------------  -----  \n",
      " 0   Manufacturer        93 non-null     object \n",
      " 1   Model               93 non-null     object \n",
      " 2   Type                93 non-null     object \n",
      " 3   Min.Price           93 non-null     float64\n",
      " 4   Price               93 non-null     float64\n",
      " 5   Max.Price           93 non-null     float64\n",
      " 6   MPG.city            93 non-null     int64  \n",
      " 7   MPG.highway         93 non-null     int64  \n",
      " 8   AirBags             93 non-null     object \n",
      " 9   DriveTrain          93 non-null     object \n",
      " 10  Cylinders           93 non-null     object \n",
      " 11  EngineSize          93 non-null     float64\n",
      " 12  Horsepower          93 non-null     int64  \n",
      " 13  RPM                 93 non-null     int64  \n",
      " 14  Rev.per.mile        93 non-null     int64  \n",
      " 15  Man.trans.avail     93 non-null     object \n",
      " 16  Fuel.tank.capacity  93 non-null     float64\n",
      " 17  Passengers          93 non-null     int64  \n",
      " 18  Length              93 non-null     int64  \n",
      " 19  Wheelbase           93 non-null     int64  \n",
      " 20  Width               93 non-null     int64  \n",
      " 21  Turn.circle         93 non-null     int64  \n",
      " 22  Rear.seat.room      91 non-null     float64\n",
      " 23  Luggage.room        82 non-null     float64\n",
      " 24  Weight              93 non-null     int64  \n",
      " 25  Origin              93 non-null     object \n",
      " 26  Make                93 non-null     object \n",
      "dtypes: float64(7), int64(11), object(9)\n",
      "memory usage: 20.3+ KB\n"
     ]
    }
   ],
   "source": [
    "cars.info()"
   ]
  },
  {
   "cell_type": "markdown",
   "id": "18cb3db9",
   "metadata": {},
   "source": [
    "Remove missing values; drop columns which are not categorical or numeric; separate dependent variable, MPG.highway, from independent variables"
   ]
  },
  {
   "cell_type": "code",
   "execution_count": 4,
   "id": "e9ad0403",
   "metadata": {},
   "outputs": [
    {
     "name": "stdout",
     "output_type": "stream",
     "text": [
      "<class 'pandas.core.frame.DataFrame'>\n",
      "Int64Index: 82 entries, 1 to 93\n",
      "Data columns (total 24 columns):\n",
      " #   Column              Non-Null Count  Dtype  \n",
      "---  ------              --------------  -----  \n",
      " 0   Manufacturer        82 non-null     object \n",
      " 1   Type                82 non-null     object \n",
      " 2   Min.Price           82 non-null     float64\n",
      " 3   Price               82 non-null     float64\n",
      " 4   Max.Price           82 non-null     float64\n",
      " 5   MPG.city            82 non-null     int64  \n",
      " 6   AirBags             82 non-null     object \n",
      " 7   DriveTrain          82 non-null     object \n",
      " 8   Cylinders           82 non-null     int32  \n",
      " 9   EngineSize          82 non-null     float64\n",
      " 10  Horsepower          82 non-null     int64  \n",
      " 11  RPM                 82 non-null     int64  \n",
      " 12  Rev.per.mile        82 non-null     int64  \n",
      " 13  Man.trans.avail     82 non-null     object \n",
      " 14  Fuel.tank.capacity  82 non-null     float64\n",
      " 15  Passengers          82 non-null     int64  \n",
      " 16  Length              82 non-null     int64  \n",
      " 17  Wheelbase           82 non-null     int64  \n",
      " 18  Width               82 non-null     int64  \n",
      " 19  Turn.circle         82 non-null     int64  \n",
      " 20  Rear.seat.room      82 non-null     float64\n",
      " 21  Luggage.room        82 non-null     float64\n",
      " 22  Weight              82 non-null     int64  \n",
      " 23  Origin              82 non-null     object \n",
      "dtypes: float64(7), int32(1), int64(10), object(6)\n",
      "memory usage: 15.7+ KB\n"
     ]
    }
   ],
   "source": [
    "cars.dropna(inplace=True)\n",
    "\n",
    "ind_vars = cars.drop(columns=['Model', 'Make'])\n",
    "ind_vars['Cylinders'] = ind_vars['Cylinders'].astype(int)\n",
    "\n",
    "mpg_highway = cars['MPG.highway'].copy()\n",
    "ind_vars.drop(columns='MPG.highway', inplace=True)\n",
    "\n",
    "ind_vars.info()"
   ]
  },
  {
   "cell_type": "markdown",
   "id": "87f22c2b",
   "metadata": {},
   "source": [
    "Make dummy variables for categorical variables, dropping first level"
   ]
  },
  {
   "cell_type": "code",
   "execution_count": 5,
   "id": "c8199f57",
   "metadata": {},
   "outputs": [
    {
     "name": "stdout",
     "output_type": "stream",
     "text": [
      "<class 'pandas.core.frame.DataFrame'>\n",
      "Int64Index: 82 entries, 1 to 93\n",
      "Data columns (total 59 columns):\n",
      " #   Column                      Non-Null Count  Dtype  \n",
      "---  ------                      --------------  -----  \n",
      " 0   Min.Price                   82 non-null     float64\n",
      " 1   Price                       82 non-null     float64\n",
      " 2   Max.Price                   82 non-null     float64\n",
      " 3   MPG.city                    82 non-null     int64  \n",
      " 4   Cylinders                   82 non-null     int32  \n",
      " 5   EngineSize                  82 non-null     float64\n",
      " 6   Horsepower                  82 non-null     int64  \n",
      " 7   RPM                         82 non-null     int64  \n",
      " 8   Rev.per.mile                82 non-null     int64  \n",
      " 9   Fuel.tank.capacity          82 non-null     float64\n",
      " 10  Passengers                  82 non-null     int64  \n",
      " 11  Length                      82 non-null     int64  \n",
      " 12  Wheelbase                   82 non-null     int64  \n",
      " 13  Width                       82 non-null     int64  \n",
      " 14  Turn.circle                 82 non-null     int64  \n",
      " 15  Rear.seat.room              82 non-null     float64\n",
      " 16  Luggage.room                82 non-null     float64\n",
      " 17  Weight                      82 non-null     int64  \n",
      " 18  Manufacturer_Audi           82 non-null     uint8  \n",
      " 19  Manufacturer_BMW            82 non-null     uint8  \n",
      " 20  Manufacturer_Buick          82 non-null     uint8  \n",
      " 21  Manufacturer_Cadillac       82 non-null     uint8  \n",
      " 22  Manufacturer_Chevrolet      82 non-null     uint8  \n",
      " 23  Manufacturer_Chrylser       82 non-null     uint8  \n",
      " 24  Manufacturer_Chrysler       82 non-null     uint8  \n",
      " 25  Manufacturer_Dodge          82 non-null     uint8  \n",
      " 26  Manufacturer_Eagle          82 non-null     uint8  \n",
      " 27  Manufacturer_Ford           82 non-null     uint8  \n",
      " 28  Manufacturer_Geo            82 non-null     uint8  \n",
      " 29  Manufacturer_Honda          82 non-null     uint8  \n",
      " 30  Manufacturer_Hyundai        82 non-null     uint8  \n",
      " 31  Manufacturer_Infiniti       82 non-null     uint8  \n",
      " 32  Manufacturer_Lexus          82 non-null     uint8  \n",
      " 33  Manufacturer_Lincoln        82 non-null     uint8  \n",
      " 34  Manufacturer_Mazda          82 non-null     uint8  \n",
      " 35  Manufacturer_Mercedes-Benz  82 non-null     uint8  \n",
      " 36  Manufacturer_Mercury        82 non-null     uint8  \n",
      " 37  Manufacturer_Mitsubishi     82 non-null     uint8  \n",
      " 38  Manufacturer_Nissan         82 non-null     uint8  \n",
      " 39  Manufacturer_Oldsmobile     82 non-null     uint8  \n",
      " 40  Manufacturer_Plymouth       82 non-null     uint8  \n",
      " 41  Manufacturer_Pontiac        82 non-null     uint8  \n",
      " 42  Manufacturer_Saab           82 non-null     uint8  \n",
      " 43  Manufacturer_Saturn         82 non-null     uint8  \n",
      " 44  Manufacturer_Subaru         82 non-null     uint8  \n",
      " 45  Manufacturer_Suzuki         82 non-null     uint8  \n",
      " 46  Manufacturer_Toyota         82 non-null     uint8  \n",
      " 47  Manufacturer_Volkswagen     82 non-null     uint8  \n",
      " 48  Manufacturer_Volvo          82 non-null     uint8  \n",
      " 49  Type_Large                  82 non-null     uint8  \n",
      " 50  Type_Midsize                82 non-null     uint8  \n",
      " 51  Type_Small                  82 non-null     uint8  \n",
      " 52  Type_Sporty                 82 non-null     uint8  \n",
      " 53  AirBags_Driver only         82 non-null     uint8  \n",
      " 54  AirBags_None                82 non-null     uint8  \n",
      " 55  DriveTrain_Front            82 non-null     uint8  \n",
      " 56  DriveTrain_Rear             82 non-null     uint8  \n",
      " 57  Man.trans.avail_Yes         82 non-null     uint8  \n",
      " 58  Origin_non-USA              82 non-null     uint8  \n",
      "dtypes: float64(7), int32(1), int64(10), uint8(41)\n",
      "memory usage: 15.1 KB\n"
     ]
    }
   ],
   "source": [
    "ind_vars = pd.get_dummies(ind_vars, drop_first=True)\n",
    "\n",
    "ind_vars.info()"
   ]
  },
  {
   "cell_type": "markdown",
   "id": "88c084fd",
   "metadata": {},
   "source": [
    "Split the data into training and test sets"
   ]
  },
  {
   "cell_type": "code",
   "execution_count": 6,
   "id": "055241ac",
   "metadata": {},
   "outputs": [],
   "source": [
    "X_train, X_test, y_train, y_test = train_test_split(ind_vars, mpg_highway, test_size=0.25, random_state=0)"
   ]
  },
  {
   "cell_type": "markdown",
   "id": "51ae3851",
   "metadata": {},
   "source": [
    "Fit a linear regression model on the training data"
   ]
  },
  {
   "cell_type": "code",
   "execution_count": 7,
   "id": "e2f23a48",
   "metadata": {},
   "outputs": [
    {
     "name": "stdout",
     "output_type": "stream",
     "text": [
      "Model Training Summary\n",
      "======================\n",
      "Intercept: 18.974230329139782\n",
      "Coefficients: [ 2.31392606e+01 -4.66675670e+01  2.34084412e+01  8.39762510e-01\n",
      " -8.26252696e-01 -3.32334485e+00  2.77105186e-02  1.34409855e-04\n",
      " -4.82320480e-03  3.64069057e-01 -1.01482785e+00  7.94456356e-02\n",
      " -3.51117047e-01  3.59363986e-01  4.88092866e-02 -2.34165281e-01\n",
      "  7.21938400e-01 -1.82032985e-03 -1.70780589e+00  4.69242090e+00\n",
      " -1.89019859e+00  7.04662839e+00  5.47283815e-01  9.97254887e-01\n",
      " -7.73726885e-01 -1.42932910e+00 -3.33904204e+00 -1.88234803e+00\n",
      " -2.48012773e+00 -4.28568635e+00 -3.13571392e+00  7.81597009e-14\n",
      "  4.01941647e+00  3.05012704e+00 -4.07460956e+00  1.07143254e+00\n",
      " -6.88264933e+00 -6.99171211e+00 -5.47979037e+00 -2.32533384e+00\n",
      " -4.08562073e-14 -6.64448674e-01 -8.72120562e+00  4.32526185e+00\n",
      "  5.93699740e+00 -3.21685837e+00 -7.78992595e+00 -2.22844095e+00\n",
      " -6.09525534e-02  1.93628018e+00 -1.48662868e+00 -1.24862039e+00\n",
      " -8.21700553e-02  1.26817076e+00  4.74420276e-01  9.44084114e+00\n",
      "  6.75058434e+00 -2.35350646e-01  3.22052050e+00]\n",
      "Sample R-Squared: 0.9983129582523756\n"
     ]
    }
   ],
   "source": [
    "lm = linear_model.LinearRegression()\n",
    "lm.fit(X_train, y_train)\n",
    "\n",
    "print(\"Model Training Summary\")\n",
    "print(\"======================\")\n",
    "print(f\"Intercept: {lm.intercept_}\")\n",
    "print(f\"Coefficients: {lm.coef_}\")\n",
    "print(f\"Sample R-Squared: {lm.score(X_train, y_train)}\")"
   ]
  },
  {
   "cell_type": "markdown",
   "id": "fdfd3989",
   "metadata": {},
   "source": [
    "Predict the values on the test set, compare with actual values"
   ]
  },
  {
   "cell_type": "code",
   "execution_count": 32,
   "id": "75c7c938",
   "metadata": {},
   "outputs": [
    {
     "data": {
      "image/png": "[encoded data removed]",
      "text/plain": [
       "<Figure size 432x288 with 1 Axes>"
      ]
     },
     "metadata": {},
     "output_type": "display_data"
    }
   ],
   "source": [
    "y_hat = lm.predict(X_test)\n",
    "residuals = y_test - y_hat\n",
    "\n",
    "plt.scatter(y_test, y_hat)\n",
    "plt.xlabel(\"Actual Value\")\n",
    "plt.ylabel(\"Predicted Value\")\n",
    "\n",
    "# Plot line y=x and reformat axes\n",
    "plt.plot(range(20,51), range(20,51), color=\"Black\")\n",
    "plt.xlim(20,51)\n",
    "plt.ylim(20,51)\n",
    "\n",
    "plt.title(\"Predicted vs. Actual Values of MPG.Highway\")\n",
    "plt.show()"
   ]
  },
  {
   "cell_type": "code",
   "execution_count": 38,
   "id": "9d173631",
   "metadata": {},
   "outputs": [
    {
     "data": {
      "image/png": "[encoded data removed]",
      "text/plain": [
       "<Figure size 432x288 with 1 Axes>"
      ]
     },
     "metadata": {},
     "output_type": "display_data"
    }
   ],
   "source": [
    "plt.scatter(y_hat, residuals)\n",
    "plt.xlabel(\"Predicted Values\")\n",
    "plt.ylabel(\"Residuals\")\n",
    "\n",
    "# Plot line y=0 and format axes\n",
    "plt.plot(range(12,46), np.zeros(46-12), color=\"black\")\n",
    "plt.xlim(12, 45)\n",
    "\n",
    "plt.title(\"Residuals vs. Predicted Values of MPG.highway\")\n",
    "plt.show()"
   ]
  },
  {
   "cell_type": "markdown",
   "id": "1e714a6c",
   "metadata": {},
   "source": [
    "Get the coefficient of determination of the model"
   ]
  },
  {
   "cell_type": "code",
   "execution_count": 10,
   "id": "c31f7353",
   "metadata": {},
   "outputs": [
    {
     "name": "stdout",
     "output_type": "stream",
     "text": [
      "Model R-squared on test dataset: 0.37043905565074153\n",
      "Model MSE on the test dataset: 21.26231452412212\n"
     ]
    }
   ],
   "source": [
    "r_squared = lm.score(X_test, y_test)\n",
    "print(f\"Model R-squared on test dataset: {r_squared}\")\n",
    "test_mse = mean_squared_error(y_test, y_hat)\n",
    "print(f\"Model MSE on the test dataset: {test_mse}\")"
   ]
  },
  {
   "cell_type": "markdown",
   "id": "ed481157",
   "metadata": {},
   "source": [
    "It looks like this model is overfitting pretty heavily, let's see if a penalized regression method does better. Let's try LASSO"
   ]
  },
  {
   "cell_type": "code",
   "execution_count": 14,
   "id": "96fb609a",
   "metadata": {},
   "outputs": [
    {
     "name": "stdout",
     "output_type": "stream",
     "text": [
      "Model Training Summary\n",
      "======================\n",
      "Number of Iterations: 22\n",
      "Intercept: 29.78688524590164\n",
      "Coefficients: [-0.00000000e+00 -0.00000000e+00 -2.56489678e-03  4.22144985e+00\n",
      " -0.00000000e+00 -0.00000000e+00 -0.00000000e+00 -0.00000000e+00\n",
      " -0.00000000e+00 -0.00000000e+00 -0.00000000e+00  0.00000000e+00\n",
      "  0.00000000e+00  0.00000000e+00  0.00000000e+00 -0.00000000e+00\n",
      "  2.09597811e-01 -0.00000000e+00 -0.00000000e+00  0.00000000e+00\n",
      "  4.65983441e-02  0.00000000e+00  3.73097596e-01  0.00000000e+00\n",
      " -1.80971694e-01 -2.48944820e-01 -0.00000000e+00 -9.63959584e-02\n",
      "  0.00000000e+00  0.00000000e+00 -0.00000000e+00  0.00000000e+00\n",
      " -1.75548117e-01  0.00000000e+00  1.96188422e-01 -0.00000000e+00\n",
      " -2.88801384e-01 -1.66979176e-01 -1.31946323e-01  3.69387965e-02\n",
      "  0.00000000e+00  3.27305470e-01 -4.79080581e-02  3.88490483e-01\n",
      " -7.09709546e-02  0.00000000e+00 -0.00000000e+00  8.17094017e-02\n",
      "  0.00000000e+00  0.00000000e+00 -0.00000000e+00 -0.00000000e+00\n",
      "  0.00000000e+00  1.34082797e-02 -0.00000000e+00  0.00000000e+00\n",
      " -0.00000000e+00 -0.00000000e+00 -0.00000000e+00]\n",
      "Regularization Strength: 0.1413665963122013\n",
      "In-sample R-Squared: 0.9453985996468787\n"
     ]
    }
   ],
   "source": [
    "# Standardzie predictors\n",
    "from sklearn.preprocessing import StandardScaler\n",
    "std = StandardScaler()\n",
    "std_X_train = std.fit_transform(X_train)\n",
    "std_X_test = std.fit_transform(X_test)\n",
    "\n",
    "# Fit model on standardized data\n",
    "lasso = linear_model.LassoCV()\n",
    "lasso.fit(std_X_train, y_train)\n",
    "\n",
    "print(\"Model Training Summary\")\n",
    "print(\"======================\")\n",
    "print(f\"Number of Iterations: {std_lasso.n_iter_}\")\n",
    "print(f\"Intercept: {std_lasso.intercept_}\")\n",
    "print(f\"Coefficients: {std_lasso.coef_}\")\n",
    "print(f\"Regularization Strength: {std_lasso.alpha_}\")\n",
    "print(f\"In-sample R-Squared: {std_lasso.score(std_X_train, y_train)}\")"
   ]
  },
  {
   "cell_type": "markdown",
   "id": "2eae8042",
   "metadata": {},
   "source": [
    "Assess out-of-sample performance of LASSO on standardized features"
   ]
  },
  {
   "cell_type": "code",
   "execution_count": 45,
   "id": "ecb6b2c1",
   "metadata": {},
   "outputs": [
    {
     "name": "stdout",
     "output_type": "stream",
     "text": [
      "Out-of-sample R-Squared: 0.8778223111802167\n",
      "Out-of-sample MSE: 4.12633672853028\n"
     ]
    },
    {
     "data": {
      "image/png": "[encoded data removed]",
      "text/plain": [
       "<Figure size 432x288 with 1 Axes>"
      ]
     },
     "metadata": {},
     "output_type": "display_data"
    },
    {
     "data": {
      "image/png": "[encoded data removed]",
      "text/plain": [
       "<Figure size 432x288 with 1 Axes>"
      ]
     },
     "metadata": {},
     "output_type": "display_data"
    }
   ],
   "source": [
    "lasso_y_hat = lasso.predict(std_X_test)\n",
    "lasso_residuals = y_test - lasso_y_hat\n",
    "\n",
    "print(f\"Out-of-sample R-Squared: {lasso.score(std_X_test, y_test)}\")\n",
    "print(f\"Out-of-sample MSE: {mean_squared_error(y_test, lasso_y_hat)}\")\n",
    "\n",
    "plt.scatter(y_test, lasso_y_hat)\n",
    "plt.xlabel(\"Actual Value\")\n",
    "plt.ylabel(\"Predicted Value\")\n",
    "plt.plot(range(20, 52), range(20, 52), color='black')\n",
    "plt.xlim(21, 51)\n",
    "plt.title(\"Predicted vs. Actual Values of MPG.highway, LASSO model\")\n",
    "plt.show()\n",
    "\n",
    "plt.scatter(lasso_y_hat, lasso_residuals)\n",
    "plt.xlabel(\"Predicted Value\")\n",
    "plt.ylabel(\"Residual\")\n",
    "plt.plot(range(23, 46), np.zeros(46-23), color='black')\n",
    "plt.xlim(24, 45)\n",
    "plt.xticks(range(25,46,5))\n",
    "plt.title(\"Residuals vs. Predicted Values of MPG.highway, LASSO\")\n",
    "plt.show()"
   ]
  },
  {
   "cell_type": "markdown",
   "id": "94053b15",
   "metadata": {},
   "source": [
    "LASSO performs much better out-of-sample than unpenalized regression did, and definitely doesn't seem to have the same overfitting problem. However, the pattern of residuals indicates non-linearity in the data, and the model performance could still be improved. It would be interesting to see how a more flexible class of models performs on this dataset. In any case that's a project for another time."
   ]
  }
 ],
 "metadata": {
  "kernelspec": {
   "display_name": "Python 3 (ipykernel)",
   "language": "python",
   "name": "python3"
  },
  "language_info": {
   "codemirror_mode": {
    "name": "ipython",
    "version": 3
   },
   "file_extension": ".py",
   "mimetype": "text/x-python",
   "name": "python",
   "nbconvert_exporter": "python",
   "pygments_lexer": "ipython3",
   "version": "3.9.12"
  }
 },
 "nbformat": 4,
 "nbformat_minor": 5
}
